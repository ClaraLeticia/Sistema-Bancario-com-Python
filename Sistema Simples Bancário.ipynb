{
 "cells": [
  {
   "cell_type": "markdown",
   "id": "11f48e9e",
   "metadata": {},
   "source": [
    "### SISTEMA DE BANCÁRIO\n",
    "\n",
    "###### Criar um sistema bancario com as operaces: sacar, depositar e visualizar extrato.\n"
   ]
  },
  {
   "cell_type": "code",
   "execution_count": null,
   "id": "69859cba",
   "metadata": {
    "scrolled": false
   },
   "outputs": [
    {
     "name": "stdout",
     "output_type": "stream",
     "text": [
      "Olá qual operação você deseja fazer?\n",
      "\n",
      "\n",
      "1- SAQUE\n",
      "2- DEPÓSITO\n",
      "3- EXTRATO\n",
      "1\n",
      "Qual valor você deseja sacar? \n",
      "200\n",
      "Saque efetuado com sucesso!\n",
      "Deseja realizar outra operação?\n",
      "\n",
      "\n",
      "0- Sim\n",
      "1- Não\n",
      "0\n",
      "Olá qual operação você deseja fazer?\n",
      "\n",
      "\n",
      "1- SAQUE\n",
      "2- DEPÓSITO\n",
      "3- EXTRATO\n",
      "2\n",
      "Qual valor você deseja depositar?\n",
      "300\n",
      "Depósito efetuado com sucesso!\n",
      "Deseja realizar outra operação?\n",
      "\n",
      "\n",
      "0- Sim\n",
      "1- Não\n",
      "0\n",
      "Olá qual operação você deseja fazer?\n",
      "\n",
      "\n",
      "1- SAQUE\n",
      "2- DEPÓSITO\n",
      "3- EXTRATO\n",
      "3\n",
      "Saque realizado no valor de: 200R$ \n",
      "\n",
      "Depósito realizado no valor de: 300R$ \n",
      "\n",
      "O valor em caixa é: R$1100\n"
     ]
    }
   ],
   "source": [
    "\n",
    "## Declaração de variáveis\n",
    "valortotal = 1000 #Definindo o valor que tem na conta\n",
    "op = 0 #Operação que vai ser realizada\n",
    "countsaque = 0 ## Definindo quantas vezes pode ser realizada a operação saque\n",
    "countop = \"0\" ## Definindo variavel para realizar outras operações novamente\n",
    "extrato_list = [] ## Criando uma lista de extrato para armazenar as operações\n",
    "\n",
    "## Função saque\n",
    "def saque(s):\n",
    "    global valortotal #Indicando que valortotal é a variavel declarada globalmente\n",
    "    if valortotal >= s: ## Verificando o dinheiro em caixa\n",
    "        texto = f\"Saque realizado no valor de: {s}R$\"\n",
    "        extrato_list.append(texto) ## Adicionando operação na lista extrato\n",
    "        valortotal = valortotal - s ## Diminuindo o valor total pelo saque \n",
    "        return \"Saque efetuado com sucesso!\"\n",
    "    else:\n",
    "        return \"Saldo insuficiente. Não foi possivel realizar o saque!\"\n",
    "        \n",
    "\n",
    "## Função depósito\n",
    "def deposito(d):\n",
    "    global valortotal #Indicando que valortotal é a variavel declarada globalmente, definida anteriormente\n",
    "    valortotal += d # Adicionando o valor de depósito no valor total\n",
    "    texto = f\"Depósito realizado no valor de: {d}R$\"\n",
    "    extrato_list.append(texto) ## Adicionando operação na lista extrato\n",
    "    return \"Depósito efetuado com sucesso!\"\n",
    "    \n",
    "\n",
    "while countop == \"0\": ## Verificando se o usuário deseja fazer outra operação\n",
    "    op = input(\"Olá qual operação você deseja fazer?\\n\\n\\n1- SAQUE\\n2- DEPÓSITO\\n3- EXTRATO\\n\") ## Definindo operação\n",
    "    if op == \"1\": ## Verificando operação\n",
    "        if countsaque < 3: ## Verificando quantidade de saques realizados\n",
    "            valorsaque = int(input(\"Qual valor você deseja sacar? \\n\"))## Definindo o valor que irá sacar\n",
    "            print(saque(valorsaque))\n",
    "            countsaque += 1\n",
    "        else:\n",
    "            print(\"Você atingiu seu limite de saques\")\n",
    "    else:\n",
    "        if op == \"2\":\n",
    "            valordeposito = int(input(\"Qual valor você deseja depositar?\\n\"))\n",
    "            print(deposito(valordeposito))\n",
    "        else:\n",
    "            if op == \"3\":\n",
    "                if len(extrato_list) == 0:\n",
    "                    print(\"Você não realizou nenhuma operação\\n\\n\\n\")\n",
    "                \n",
    "                for ext in range(0, len(extrato_list)):\n",
    "                    print(extrato_list[ext],\"\\n\")\n",
    "                print(f\"O valor em caixa é: R${valortotal}\")\n",
    "            \n",
    "    countop = input(\"Deseja realizar outra operação?\\n\\n\\n0- Sim\\n1- Não\\n\")\n"
   ]
  },
  {
   "cell_type": "code",
   "execution_count": null,
   "id": "6a4038cc",
   "metadata": {},
   "outputs": [],
   "source": []
  }
 ],
 "metadata": {
  "kernelspec": {
   "display_name": "Python 3 (ipykernel)",
   "language": "python",
   "name": "python3"
  },
  "language_info": {
   "codemirror_mode": {
    "name": "ipython",
    "version": 3
   },
   "file_extension": ".py",
   "mimetype": "text/x-python",
   "name": "python",
   "nbconvert_exporter": "python",
   "pygments_lexer": "ipython3",
   "version": "3.9.13"
  }
 },
 "nbformat": 4,
 "nbformat_minor": 5
}
